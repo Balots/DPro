{
 "cells": [
  {
   "cell_type": "code",
   "execution_count": 8,
   "id": "1985622a-7c52-4570-84d2-d3c6db7558bf",
   "metadata": {},
   "outputs": [],
   "source": [
    "from Detector import IDet\n",
    "from ydata_profiling.controller.pandas_decorator import profile_report"
   ]
  },
  {
   "cell_type": "code",
   "execution_count": 9,
   "id": "fe2a578e-70e7-4cce-83e4-1b2e3a63bcc7",
   "metadata": {},
   "outputs": [
    {
     "data": {
      "application/vnd.jupyter.widget-view+json": {
       "model_id": "bd5f7e3525fa4a139153a381667762cd",
       "version_major": 2,
       "version_minor": 0
      },
      "text/plain": [
       "Summarize dataset:   0%|          | 0/5 [00:00<?, ?it/s]"
      ]
     },
     "metadata": {},
     "output_type": "display_data"
    },
    {
     "name": "stderr",
     "output_type": "stream",
     "text": [
      "\n",
      "100%|██████████████████████████████████████████| 32/32 [00:00<00:00, 812.09it/s]\n"
     ]
    },
    {
     "data": {
      "application/vnd.jupyter.widget-view+json": {
       "model_id": "11000682c7fd41f3aa0656ae2e1a686c",
       "version_major": 2,
       "version_minor": 0
      },
      "text/plain": [
       "Render JSON:   0%|          | 0/1 [00:00<?, ?it/s]"
      ]
     },
     "metadata": {},
     "output_type": "display_data"
    },
    {
     "name": "stdout",
     "output_type": "stream",
     "text": [
      "результат для колонки Number_of_vehicles_involved\n",
      "\n",
      "IQR:\n",
      "Метод: IQR (1.5×)\n",
      " Найдено выбросов: 3976 (32.3%)\n",
      "\n",
      "Modified Z score:\n",
      "Метод: Hampel (MAD-based)\n",
      " Порог: 3.0\n",
      " Найдено выбросов: 3976 (32.3%)\n",
      "\n",
      "Percentile:\n",
      "Метод: percentile\n",
      " Найдено выбросов: 412 (3.3%)\n",
      "\n",
      "Kurtosis Method:\n",
      "Метод: Kurtosis (>3.5)\n",
      " Порог: 3.5\n",
      " Найдено выбросов: 3976 (32.3%)\n",
      "результат для колонки Number_of_casualties\n",
      "\n",
      "IQR:\n",
      "Метод: IQR (1.5×)\n",
      " Найдено выбросов: 720 (5.8%)\n",
      "\n",
      "Modified Z score:\n",
      "Метод: Hampel (MAD-based)\n",
      " Порог: 3.0\n",
      " Найдено выбросов: 3919 (31.8%)\n",
      "\n",
      "Skewness Method:\n",
      "Метод: Skewness (>2.0)\n",
      " Порог: 2.0\n",
      " Направление: right\n",
      " Найдено выбросов: 720 (5.8%)\n",
      "\n",
      "Percentile:\n",
      "Метод: percentile\n",
      " Найдено выбросов: 326 (2.6%)\n",
      "\n",
      "Kurtosis Method:\n",
      "Метод: Kurtosis (>3.5)\n",
      " Порог: 3.5\n",
      " Найдено выбросов: 3919 (31.8%)\n"
     ]
    },
    {
     "data": {
      "text/plain": [
       "({'Overall alerts/Общие проблемы': ['[Age_band_of_casualty] is highly overall correlated with [Casualty_class] and 2 other fields',\n",
       "   '[Casualty_class] is highly overall correlated with [Age_band_of_casualty] and 2 other fields',\n",
       "   '[Casualty_severity] is highly overall correlated with [Age_band_of_casualty] and 2 other fields',\n",
       "   '[Road_surface_conditions] is highly overall correlated with [Weather_conditions]',\n",
       "   '[Sex_of_casualty] is highly overall correlated with [Age_band_of_casualty] and 2 other fields',\n",
       "   '[Weather_conditions] is highly overall correlated with [Road_surface_conditions]',\n",
       "   '[Sex_of_driver] is highly imbalanced (0.7331814792579494)',\n",
       "   '[Vehicle_driver_relation] is highly imbalanced (0.6262676230691153)',\n",
       "   '[Owner_of_vehicle] is highly imbalanced (0.6894337476286775)',\n",
       "   '[Defect_of_vehicle] is highly imbalanced (0.9240725112978082)',\n",
       "   '[Road_allignment] is highly imbalanced (0.706411874123074)',\n",
       "   '[Road_surface_type] is highly imbalanced (0.7877432060401993)',\n",
       "   '[Road_surface_conditions] is highly imbalanced (0.5807288072782578)',\n",
       "   '[Light_conditions] is highly imbalanced (0.5121641393802047)',\n",
       "   '[Weather_conditions] is highly imbalanced (0.6725056288612867)',\n",
       "   '[Type_of_collision] is highly imbalanced (0.5883593239019898)',\n",
       "   '[Vehicle_movement] is highly imbalanced (0.5101196405438386)',\n",
       "   '[Fitness_of_casuality] is highly imbalanced (0.965939995470053)',\n",
       "   '[Pedestrian_movement] is highly imbalanced (0.8258957778816144)',\n",
       "   '[Accident_severity] is highly imbalanced (0.5682034106122682)',\n",
       "   '[Educational_level] 741 (6.0%) missing values',\n",
       "   '[Vehicle_driver_relation] 579 (4.7%) missing values',\n",
       "   '[Driving_experience] 829 (6.7%) missing values',\n",
       "   '[Type_of_vehicle] 950 (7.7%) missing values',\n",
       "   '[Owner_of_vehicle] 482 (3.9%) missing values',\n",
       "   '[Service_year_of_vehicle] 3928 (31.9%) missing values',\n",
       "   '[Defect_of_vehicle] 4427 (35.9%) missing values',\n",
       "   '[Area_accident_occured] 239 (1.9%) missing values',\n",
       "   '[Lanes_or_Medians] 385 (3.1%) missing values',\n",
       "   '[Road_allignment] 142 (1.2%) missing values',\n",
       "   '[Types_of_Junction] 887 (7.2%) missing values',\n",
       "   '[Road_surface_type] 172 (1.4%) missing values',\n",
       "   '[Type_of_collision] 155 (1.3%) missing values',\n",
       "   '[Vehicle_movement] 308 (2.5%) missing values',\n",
       "   '[Work_of_casuality] 3198 (26.0%) missing values',\n",
       "   '[Fitness_of_casuality] 2635 (21.4%) missing values'],\n",
       "  'Missing values/Пропущенные значения': 'Missing values exist/Пропущенные значения присутствуют, Percentage/Процент пропущенных значений:0.050891624715816826',\n",
       "  'Duplicate values/Дубликаты значений ': 'No duplicates found/Дубликаты отсутствуют'},\n",
       " {'Number_of_vehicles_involved': {'IQR': {'method': 'IQR (1.5×)',\n",
       "    'count': 3976},\n",
       "   'Modified_Z_score': {'method': 'Hampel (MAD-based)',\n",
       "    'threshold': 3.0,\n",
       "    'count': 3976},\n",
       "   'Percentile': {'method': 'percentile', 'bounds': [1.0, 3.0], 'count': 412},\n",
       "   'Skewness_Method': {'method': 'Skewness (>2.0)',\n",
       "    'threshold': 2.0,\n",
       "    'direction': 'right',\n",
       "    'count': 0},\n",
       "   'Kurtosis_Method': {'method': 'Kurtosis (>3.5)',\n",
       "    'threshold': 3.5,\n",
       "    'count': 3976}},\n",
       "  'Number_of_casualties': {'IQR': {'method': 'IQR (1.5×)', 'count': 720},\n",
       "   'Modified_Z_score': {'method': 'Hampel (MAD-based)',\n",
       "    'threshold': 3.0,\n",
       "    'count': 3919},\n",
       "   'Percentile': {'method': 'percentile', 'bounds': [1.0, 4.0], 'count': 326},\n",
       "   'Skewness_Method': {'method': 'Skewness (>2.0)',\n",
       "    'threshold': 2.0,\n",
       "    'direction': 'right',\n",
       "    'count': 720},\n",
       "   'Kurtosis_Method': {'method': 'Kurtosis (>3.5)',\n",
       "    'threshold': 3.5,\n",
       "    'count': 3919}}},\n",
       " {'Number_of_vehicles_involved': {'Рекомендация': 'стандартизировать',\n",
       "   'причина': ['наличие выбросов', 'сильная скошенность']},\n",
       "  'Number_of_casualties': {'Рекомендация': 'стандартизировать',\n",
       "   'причина': ['наличие выбросов',\n",
       "    'асимметричное распределение',\n",
       "    'высокая вариативность',\n",
       "    'сильная скошенность']}})"
      ]
     },
     "execution_count": 9,
     "metadata": {},
     "output_type": "execute_result"
    }
   ],
   "source": [
    "IDet(True, True, True, True).logging_results('RTA Dataset.csv')"
   ]
  },
  {
   "cell_type": "code",
   "execution_count": 10,
   "id": "569a1a39-7a37-41cc-8742-d284bd3bd66f",
   "metadata": {},
   "outputs": [
    {
     "ename": "NameError",
     "evalue": "name 'profile_repot' is not defined",
     "output_type": "error",
     "traceback": [
      "\u001b[0;31m---------------------------------------------------------------------------\u001b[0m",
      "\u001b[0;31mNameError\u001b[0m                                 Traceback (most recent call last)",
      "Cell \u001b[0;32mIn[10], line 1\u001b[0m\n\u001b[0;32m----> 1\u001b[0m \u001b[43mprofile_repot\u001b[49m(\u001b[38;5;124m'\u001b[39m\u001b[38;5;124mRTA Dataset.csv\u001b[39m\u001b[38;5;124m'\u001b[39m)\n",
      "\u001b[0;31mNameError\u001b[0m: name 'profile_repot' is not defined"
     ]
    }
   ],
   "source": [
    "profile_repot('RTA Dataset.csv')"
   ]
  },
  {
   "cell_type": "code",
   "execution_count": null,
   "id": "e37c3272-f4a9-4ee3-b4e3-f961f051f9a1",
   "metadata": {},
   "outputs": [],
   "source": []
  }
 ],
 "metadata": {
  "kernelspec": {
   "display_name": "Python 3 (ipykernel)",
   "language": "python",
   "name": "python3"
  },
  "language_info": {
   "codemirror_mode": {
    "name": "ipython",
    "version": 3
   },
   "file_extension": ".py",
   "mimetype": "text/x-python",
   "name": "python",
   "nbconvert_exporter": "python",
   "pygments_lexer": "ipython3",
   "version": "3.12.3"
  }
 },
 "nbformat": 4,
 "nbformat_minor": 5
}
